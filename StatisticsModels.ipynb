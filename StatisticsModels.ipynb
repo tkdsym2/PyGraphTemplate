{
 "cells": [
  {
   "cell_type": "code",
   "execution_count": 68,
   "metadata": {},
   "outputs": [
    {
     "name": "stdout",
     "output_type": "stream",
     "text": [
      "     sepal_length  sepal_width  petal_length  petal_width    species  index\n",
      "0             5.1          3.5           1.4          0.2     setosa      0\n",
      "1             4.9          3.0           1.4          0.2     setosa      1\n",
      "2             4.7          3.2           1.3          0.2     setosa      2\n",
      "3             4.6          3.1           1.5          0.2     setosa      3\n",
      "4             5.0          3.6           1.4          0.2     setosa      4\n",
      "..            ...          ...           ...          ...        ...    ...\n",
      "145           6.7          3.0           5.2          2.3  virginica    145\n",
      "146           6.3          2.5           5.0          1.9  virginica    146\n",
      "147           6.5          3.0           5.2          2.0  virginica    147\n",
      "148           6.2          3.4           5.4          2.3  virginica    148\n",
      "149           5.9          3.0           5.1          1.8  virginica    149\n",
      "\n",
      "[150 rows x 6 columns]\n"
     ]
    }
   ],
   "source": [
    "import seaborn as sns\n",
    "from sklearn import datasets # sample data\n",
    "import numpy as np\n",
    "import scikit_posthocs as sp\n",
    "from scipy import stats as st\n",
    "import statsmodels.formula.api as smf\n",
    "import statsmodels.api as sm\n",
    "import statsmodels.stats.anova as anova\n",
    "from statsmodels.stats.multicomp import pairwise_tukeyhsd\n",
    "\n",
    "iris = sns.load_dataset('iris')\n",
    "iris['index'] = iris.index\n",
    "print(iris)"
   ]
  },
  {
   "cell_type": "code",
   "execution_count": 69,
   "metadata": {},
   "outputs": [
    {
     "name": "stdout",
     "output_type": "stream",
     "text": [
      "------------------------------ shapiro-wilk test ------------------------------\n",
      "--------------- parameter per species ---------------\n",
      "setosa-sepal_length \n",
      " statistic: 0.9776989221572876, \n",
      " p-value: 0.4595281183719635\n",
      "setosa-sepal_width \n",
      " statistic: 0.97171950340271, \n",
      " p-value: 0.2715264856815338\n",
      "setosa-petal_length \n",
      " statistic: 0.9549766182899475, \n",
      " p-value: 0.05481043830513954\n",
      "setosa-petal_width \n",
      " statistic: 0.7997642159461975, \n",
      " p-value: 8.65842082475865e-07*\n",
      "--------------------\n",
      "versicolor-sepal_length \n",
      " statistic: 0.9778355956077576, \n",
      " p-value: 0.46473264694213867\n",
      "versicolor-sepal_width \n",
      " statistic: 0.9741330742835999, \n",
      " p-value: 0.33798879384994507\n",
      "versicolor-petal_length \n",
      " statistic: 0.9660047888755798, \n",
      " p-value: 0.1584833413362503\n",
      "versicolor-petal_width \n",
      " statistic: 0.947626531124115, \n",
      " p-value: 0.027278218418359756*\n",
      "--------------------\n",
      "virginica-sepal_length \n",
      " statistic: 0.9711798429489136, \n",
      " p-value: 0.25832483172416687\n",
      "virginica-sepal_width \n",
      " statistic: 0.9673910140991211, \n",
      " p-value: 0.1809043288230896\n",
      "virginica-petal_length \n",
      " statistic: 0.9621862769126892, \n",
      " p-value: 0.10977369546890259\n",
      "virginica-petal_width \n",
      " statistic: 0.9597718715667725, \n",
      " p-value: 0.08695744723081589\n",
      "--------------------\n",
      "---------------  per parameter ---------------\n",
      "sepal_length \n",
      " statistic: 0.9760897755622864, \n",
      " p-value: 0.01017984002828598*\n",
      "--------------------\n",
      "sepal_width \n",
      " statistic: 0.9849170446395874, \n",
      " p-value: 0.10113201290369034\n",
      "--------------------\n",
      "petal_length \n",
      " statistic: 0.8762688040733337, \n",
      " p-value: 7.412849778454245e-10*\n",
      "--------------------\n",
      "petal_width \n",
      " statistic: 0.9018339514732361, \n",
      " p-value: 1.6802413682626138e-08*\n",
      "--------------------\n"
     ]
    }
   ],
   "source": [
    "species = ['setosa', 'versicolor', 'virginica']\n",
    "factors = ['sepal_length', 'sepal_width', 'petal_length', 'petal_width']\n",
    "level = 0.05 #有意水準\n",
    "\n",
    "# 正規性の検定\n",
    "# shapiro-wilk testを採用，データ数が数千までに上場合は，Kolmogorov-Smirnov testの方が好ましい\n",
    "print('------------------------------ shapiro-wilk test ------------------------------')\n",
    "#以下は，各種の各パラメータに対して検定\n",
    "print('--------------- parameter per species ---------------' )\n",
    "for content in species:\n",
    "    for factor in factors:\n",
    "        statistic, pvalue = st.shapiro(iris.query('species == @content')[factor])\n",
    "        print('{0}-{1} \\n statistic: {2}, \\n p-value: {3}{4}'.format(content,factor,statistic,pvalue,'*' if pvalue < level else ''))\n",
    "    print('--------------------')\n",
    "# result\n",
    "# setosa: petal_widthに有意差あり→ノンパラメトリック \n",
    "# versicolor: petal_width に有意差あり→ノンパラメトリック \n",
    "# virginica: 全て有意差なし\n",
    "\n",
    "#以下は，種は分けずに各パラメータに対して検定\n",
    "print('---------------  per parameter ---------------')\n",
    "for factor in factors:\n",
    "      statistic, pvalue = st.shapiro(iris[factor])\n",
    "      print('{0} \\n statistic: {1}, \\n p-value: {2}{3}'.format(factor,statistic,pvalue,'*' if pvalue < level else ''))\n",
    "      print('--------------------')\n",
    "# result\n",
    "# sepal_length: 有意差あり→ノンパラメトリック \n",
    "# sepal_width : 有意差なし→パラメトリック\n",
    "# petal_length : 有意差あり→ノンパラメトリック \n",
    "# petal_width : 有意差あり→ノンパラメトリック "
   ]
  },
  {
   "cell_type": "code",
   "execution_count": 84,
   "metadata": {},
   "outputs": [
    {
     "name": "stdout",
     "output_type": "stream",
     "text": [
      "------------------------------ friedman test - sepal_length ------------------------------\n",
      "sepal_length friedman test \n",
      " statistic: 73.78571428571435, p-value: 9.498077769131953e-17*\n",
      "sepal_length Steel-Dwass test: \n",
      "            setosa  versicolor  virginica\n",
      "setosa       1.000       0.001      0.001\n",
      "versicolor   0.001       1.000      0.001\n",
      "virginica    0.001       0.001      1.000\n",
      "------------------------------ friedman test - petal_length  ------------------------------\n",
      "petal_length friedman test \n",
      " statistic: 95.31313131313132, p-value: 2.0091691859708084e-21*\n",
      "petal_length Steel-Dwass test: \n",
      "            setosa  versicolor  virginica\n",
      "setosa       1.000       0.001      0.001\n",
      "versicolor   0.001       1.000      0.001\n",
      "virginica    0.001       0.001      1.000\n",
      "------------------------------ friedman test - petal_length  ------------------------------\n",
      "petal_width friedman test \n",
      " statistic: 96.15999999999997, p-value: 1.315592261061294e-21*\n",
      "petal_width Steel-Dwass test: \n",
      "            setosa  versicolor  virginica\n",
      "setosa       1.000       0.001      0.001\n",
      "versicolor   0.001       1.000      0.001\n",
      "virginica    0.001       0.001      1.000\n"
     ]
    }
   ],
   "source": [
    "# 対応ありver\n",
    "\n",
    "#他群検定 (3種全部で行う)\n",
    "\n",
    "# sepal_length - フリードマン検定\n",
    "print('------------------------------ friedman test - sepal_length ------------------------------')\n",
    "statistic, pvalue = st.friedmanchisquare(*(x[1] for x in iris.groupby('species')['sepal_length']))\n",
    "print('sepal_length friedman test \\n statistic: {0}, p-value: {1}{2}'.format(statistic,pvalue, '*' if pvalue<level else ''))\n",
    "# result: 有意差あり→多重検定を行う\n",
    "print('sepal_length Steel-Dwass test: ')\n",
    "print(sp.posthoc_dscf(iris, val_col='sepal_length', group_col='species'))\n",
    "\n",
    "\n",
    "\n",
    "# sepal_width - 反復測定ANOVA\n",
    "# print('------------------------------ Repeated-measures ANOVA - sepal_width ------------------------------')\n",
    "# print('sepal_width One-Factor repeated measures ANOVA: ')\n",
    "# statistic, pvalue = st.f_oneway(*(x[1] for x in iris['sepal_width']))\n",
    "\n",
    "\n",
    "\n",
    "# petal_length - フリードマン検定\n",
    "print('------------------------------ friedman test - petal_length  ------------------------------')\n",
    "statistic, pvalue = st.friedmanchisquare(*(x[1] for x in iris.groupby('species')['petal_length']))\n",
    "print('petal_length friedman test \\n statistic: {0}, p-value: {1}{2}'.format(statistic,pvalue, '*' if pvalue<level else ''))\n",
    "# result: 有意差あり→多重検定 Steel Dwassを行う\n",
    "print('petal_length Steel-Dwass test: ')\n",
    "print(sp.posthoc_dscf(iris, val_col='petal_length', group_col='species'))\n",
    "\n",
    "\n",
    "\n",
    "# petal_width - フリードマン検定\n",
    "print('------------------------------ friedman test - petal_length  ------------------------------')\n",
    "statistic, pvalue = st.friedmanchisquare(*(x[1] for x in iris.groupby('species')['petal_width']))\n",
    "print('petal_width friedman test \\n statistic: {0}, p-value: {1}{2}'.format(statistic,pvalue, '*' if pvalue<level else ''))\n",
    "# result: 有意差あり→多重検定 Steel Dwassを行う\n",
    "print('petal_width Steel-Dwass test: ')\n",
    "print(sp.posthoc_dscf(iris, val_col='petal_width', group_col='species'))"
   ]
  },
  {
   "cell_type": "code",
   "execution_count": null,
   "metadata": {},
   "outputs": [],
   "source": []
  }
 ],
 "metadata": {
  "kernelspec": {
   "display_name": "Python 3",
   "language": "python",
   "name": "python3"
  },
  "language_info": {
   "codemirror_mode": {
    "name": "ipython",
    "version": 3
   },
   "file_extension": ".py",
   "mimetype": "text/x-python",
   "name": "python",
   "nbconvert_exporter": "python",
   "pygments_lexer": "ipython3",
   "version": "3.8.2"
  },
  "toc": {
   "base_numbering": 1,
   "nav_menu": {},
   "number_sections": true,
   "sideBar": true,
   "skip_h1_title": false,
   "title_cell": "Table of Contents",
   "title_sidebar": "Contents",
   "toc_cell": false,
   "toc_position": {},
   "toc_section_display": true,
   "toc_window_display": false
  },
  "varInspector": {
   "cols": {
    "lenName": 16,
    "lenType": 16,
    "lenVar": 40
   },
   "kernels_config": {
    "python": {
     "delete_cmd_postfix": "",
     "delete_cmd_prefix": "del ",
     "library": "var_list.py",
     "varRefreshCmd": "print(var_dic_list())"
    },
    "r": {
     "delete_cmd_postfix": ") ",
     "delete_cmd_prefix": "rm(",
     "library": "var_list.r",
     "varRefreshCmd": "cat(var_dic_list()) "
    }
   },
   "types_to_exclude": [
    "module",
    "function",
    "builtin_function_or_method",
    "instance",
    "_Feature"
   ],
   "window_display": false
  }
 },
 "nbformat": 4,
 "nbformat_minor": 4
}
